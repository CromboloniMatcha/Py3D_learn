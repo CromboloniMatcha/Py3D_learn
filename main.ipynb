{
 "cells": [
  {
   "cell_type": "markdown",
   "id": "384a020d-36af-44ec-9641-8cac5c477d6e",
   "metadata": {},
   "source": [
    "Installation"
   ]
  },
  {
   "cell_type": "code",
   "execution_count": 1,
   "id": "371828f9-ecb0-47a5-b8dd-2bcaf3b9aed8",
   "metadata": {},
   "outputs": [
    {
     "name": "stdout",
     "output_type": "stream",
     "text": [
      "Requirement already satisfied: opencv-python in c:\\users\\chris\\ar\\venv_312\\lib\\site-packages (4.12.0.88)\n",
      "Requirement already satisfied: mediapipe in c:\\users\\chris\\ar\\venv_312\\lib\\site-packages (0.10.14)\n",
      "Requirement already satisfied: numpy in c:\\users\\chris\\ar\\venv_312\\lib\\site-packages (2.2.6)\n",
      "Requirement already satisfied: PyOpenGL in c:\\users\\chris\\ar\\venv_312\\lib\\site-packages (3.1.10)\n",
      "Requirement already satisfied: glfw in c:\\users\\chris\\ar\\venv_312\\lib\\site-packages (2.10.0)\n",
      "Requirement already satisfied: absl-py in c:\\users\\chris\\ar\\venv_312\\lib\\site-packages (from mediapipe) (2.3.1)\n",
      "Requirement already satisfied: attrs>=19.1.0 in c:\\users\\chris\\ar\\venv_312\\lib\\site-packages (from mediapipe) (25.3.0)\n",
      "Requirement already satisfied: flatbuffers>=2.0 in c:\\users\\chris\\ar\\venv_312\\lib\\site-packages (from mediapipe) (25.2.10)\n",
      "Requirement already satisfied: jax in c:\\users\\chris\\ar\\venv_312\\lib\\site-packages (from mediapipe) (0.7.1)\n",
      "Requirement already satisfied: jaxlib in c:\\users\\chris\\ar\\venv_312\\lib\\site-packages (from mediapipe) (0.7.1)\n",
      "Requirement already satisfied: matplotlib in c:\\users\\chris\\ar\\venv_312\\lib\\site-packages (from mediapipe) (3.10.6)\n",
      "Requirement already satisfied: opencv-contrib-python in c:\\users\\chris\\ar\\venv_312\\lib\\site-packages (from mediapipe) (4.12.0.88)\n",
      "Requirement already satisfied: protobuf<5,>=4.25.3 in c:\\users\\chris\\ar\\venv_312\\lib\\site-packages (from mediapipe) (4.25.8)\n",
      "Requirement already satisfied: sounddevice>=0.4.4 in c:\\users\\chris\\ar\\venv_312\\lib\\site-packages (from mediapipe) (0.5.2)\n",
      "Requirement already satisfied: CFFI>=1.0 in c:\\users\\chris\\ar\\venv_312\\lib\\site-packages (from sounddevice>=0.4.4->mediapipe) (2.0.0)\n",
      "Requirement already satisfied: pycparser in c:\\users\\chris\\ar\\venv_312\\lib\\site-packages (from CFFI>=1.0->sounddevice>=0.4.4->mediapipe) (2.23)\n",
      "Requirement already satisfied: ml_dtypes>=0.5.0 in c:\\users\\chris\\ar\\venv_312\\lib\\site-packages (from jax->mediapipe) (0.5.3)\n",
      "Requirement already satisfied: opt_einsum in c:\\users\\chris\\ar\\venv_312\\lib\\site-packages (from jax->mediapipe) (3.4.0)\n",
      "Requirement already satisfied: scipy>=1.12 in c:\\users\\chris\\ar\\venv_312\\lib\\site-packages (from jax->mediapipe) (1.16.2)\n",
      "Requirement already satisfied: contourpy>=1.0.1 in c:\\users\\chris\\ar\\venv_312\\lib\\site-packages (from matplotlib->mediapipe) (1.3.3)\n",
      "Requirement already satisfied: cycler>=0.10 in c:\\users\\chris\\ar\\venv_312\\lib\\site-packages (from matplotlib->mediapipe) (0.12.1)\n",
      "Requirement already satisfied: fonttools>=4.22.0 in c:\\users\\chris\\ar\\venv_312\\lib\\site-packages (from matplotlib->mediapipe) (4.59.2)\n",
      "Requirement already satisfied: kiwisolver>=1.3.1 in c:\\users\\chris\\ar\\venv_312\\lib\\site-packages (from matplotlib->mediapipe) (1.4.9)\n",
      "Requirement already satisfied: packaging>=20.0 in c:\\users\\chris\\ar\\venv_312\\lib\\site-packages (from matplotlib->mediapipe) (25.0)\n",
      "Requirement already satisfied: pillow>=8 in c:\\users\\chris\\ar\\venv_312\\lib\\site-packages (from matplotlib->mediapipe) (11.3.0)\n",
      "Requirement already satisfied: pyparsing>=2.3.1 in c:\\users\\chris\\ar\\venv_312\\lib\\site-packages (from matplotlib->mediapipe) (3.2.4)\n",
      "Requirement already satisfied: python-dateutil>=2.7 in c:\\users\\chris\\ar\\venv_312\\lib\\site-packages (from matplotlib->mediapipe) (2.9.0.post0)\n",
      "Requirement already satisfied: six>=1.5 in c:\\users\\chris\\ar\\venv_312\\lib\\site-packages (from python-dateutil>=2.7->matplotlib->mediapipe) (1.17.0)\n",
      "Note: you may need to restart the kernel to use updated packages.\n"
     ]
    }
   ],
   "source": [
    "pip install opencv-python mediapipe numpy PyOpenGL glfw"
   ]
  },
  {
   "cell_type": "code",
   "execution_count": 1,
   "id": "7a800f96-66e2-4041-8c6c-fe65af9038a2",
   "metadata": {},
   "outputs": [],
   "source": [
    "import cv2\n",
    "import mediapipe as mp\n",
    "import math\n",
    "import numpy as np\n",
    "\n",
    "# Impor pustaka 3D\n",
    "from OpenGL.GL import *\n",
    "from OpenGL.GLUT import *\n",
    "import glfw"
   ]
  },
  {
   "cell_type": "markdown",
   "id": "ebd52ff2-aa17-4edb-9a44-0d1879b93c80",
   "metadata": {},
   "source": [
    "Inisialisasi"
   ]
  },
  {
   "cell_type": "code",
   "execution_count": 2,
   "id": "620955b4-c951-41d3-a0ad-c37ed7f7be20",
   "metadata": {},
   "outputs": [],
   "source": [
    "# Inisialisasi MediaPipe Hands\n",
    "mp_hands = mp.solutions.hands\n",
    "hands = mp_hands.Hands(min_detection_confidence=0.7, min_tracking_confidence=0.7)\n",
    "\n",
    "# Buka kamera\n",
    "cap = cv2.VideoCapture(0)\n",
    "\n",
    "# Variabel untuk Zoom & Rotate\n",
    "initial_distance = None  \n",
    "initial_angle = None\n",
    "zoom_level = 1.0        \n",
    "rotation_angle = 0.0"
   ]
  },
  {
   "cell_type": "markdown",
   "id": "16ac9bb1-638c-487e-8076-42b982482b9e",
   "metadata": {},
   "source": [
    "Fungsi - fungsi"
   ]
  },
  {
   "cell_type": "code",
   "execution_count": 3,
   "id": "037d5737-ed24-48ae-a336-5054a4024db2",
   "metadata": {},
   "outputs": [],
   "source": [
    "# --- Fungsi untuk Mengatur OpenGL ---\n",
    "def setup_gl(width, height):\n",
    "    glClearColor(0.0, 0.0, 0.0, 0.0)\n",
    "    glEnable(GL_DEPTH_TEST)\n",
    "\n",
    "    glMatrixMode(GL_PROJECTION)\n",
    "    glLoadIdentity()\n",
    "    glOrtho(-1.0, 1.0, -1.0, 1.0, -1.0, 1.0)\n",
    "\n",
    "    glMatrixMode(GL_MODELVIEW)\n",
    "    glLoadIdentity()"
   ]
  },
  {
   "cell_type": "code",
   "execution_count": 4,
   "id": "798ec50e-d3a1-4c5b-8b77-465deab8696b",
   "metadata": {},
   "outputs": [],
   "source": [
    "# Fungsi untuk memuat file OBJ\n",
    "def load_obj(filename):\n",
    "    vertices = []\n",
    "    faces = []\n",
    "    for line in open(filename, 'r'):\n",
    "        if line.startswith('v '):\n",
    "            vertices.append(list(map(float, line.strip().split()[1:4])))\n",
    "        elif line.startswith('f '):\n",
    "            face_indices = line.strip().split()[1:]\n",
    "            faces.append([int(i.split('/')[0]) - 1 for i in face_indices])\n",
    "    return vertices, faces\n",
    "\n",
    "try:\n",
    "    vertices, faces = load_obj('Rubik.obj')\n",
    "except FileNotFoundError:\n",
    "    print(\"File 3D tidak ditemukan! Pastikan 'your_model.obj' berada di folder yang sama.\")\n",
    "    exit()"
   ]
  },
  {
   "cell_type": "code",
   "execution_count": 5,
   "id": "b0477947-f70f-464b-ab07-dacd23281ae3",
   "metadata": {},
   "outputs": [],
   "source": [
    "# --- Fungsi untuk Merender Objek 3D ---\n",
    "def draw_obj():\n",
    "    glBegin(GL_TRIANGLES)\n",
    "    glColor3f(0.8, 0.8, 0.8) # Warna objek\n",
    "    for face in faces:\n",
    "        for vertex_index in face:\n",
    "            glVertex3fv(vertices[vertex_index])\n",
    "    glEnd()"
   ]
  },
  {
   "cell_type": "markdown",
   "id": "b9c65fcc-0202-4522-85cf-4fa972f808fb",
   "metadata": {},
   "source": [
    "Main loop"
   ]
  },
  {
   "cell_type": "code",
   "execution_count": 6,
   "id": "ad15afb9-a56c-4c06-81ed-bcfa79e4c1f5",
   "metadata": {},
   "outputs": [
    {
     "name": "stderr",
     "output_type": "stream",
     "text": [
      "C:\\Users\\chris\\AR\\venv_312\\Lib\\site-packages\\google\\protobuf\\symbol_database.py:55: UserWarning: SymbolDatabase.GetPrototype() is deprecated. Please use message_factory.GetMessageClass() instead. SymbolDatabase.GetPrototype() will be removed soon.\n",
      "  warnings.warn('SymbolDatabase.GetPrototype() is deprecated. Please '\n"
     ]
    }
   ],
   "source": [
    "# Inisialisasi GLFW\n",
    "if not glfw.init():\n",
    "    exit()\n",
    "\n",
    "window = glfw.create_window(1280, 720, \"Hand Gesture 3D Control\", None, None)\n",
    "if not window:\n",
    "    glfw.terminate()\n",
    "    exit()\n",
    "\n",
    "glfw.make_context_current(window)\n",
    "setup_gl(1280, 720)\n",
    "\n",
    "while not glfw.window_should_close(window):\n",
    "    # Dapatkan frame dari kamera\n",
    "    ret, frame = cap.read()\n",
    "    if not ret:\n",
    "        break\n",
    "\n",
    "    frame = cv2.flip(frame, 1)\n",
    "    frame_rgb = cv2.cvtColor(frame, cv2.COLOR_BGR2RGB)\n",
    "\n",
    "    # Proses deteksi tangan\n",
    "    result = hands.process(frame_rgb)\n",
    "\n",
    "    if result.multi_hand_landmarks:\n",
    "        for hand_landmarks in result.multi_hand_landmarks:\n",
    "            # === Logika Zoom (Jari Telunjuk & Jempol) ===\n",
    "            index_tip = hand_landmarks.landmark[mp_hands.HandLandmark.INDEX_FINGER_TIP]\n",
    "            thumb_tip = hand_landmarks.landmark[mp_hands.HandLandmark.THUMB_TIP]\n",
    "            \n",
    "            h, w, c = frame.shape\n",
    "            index_x, index_y = int(index_tip.x * w), int(index_tip.y * h)\n",
    "            thumb_x, thumb_y = int(thumb_tip.x * w), int(thumb_tip.y * h)\n",
    "            \n",
    "            current_distance = math.hypot(index_x - thumb_x, index_y - thumb_y)\n",
    "            \n",
    "            if initial_distance is None:\n",
    "                initial_distance = current_distance\n",
    "            \n",
    "            zoom_level = current_distance / initial_distance\n",
    "\n",
    "            # === Logika Rotasi (Pergelangan & Jari Tengah) ===\n",
    "            wrist = hand_landmarks.landmark[mp_hands.HandLandmark.WRIST]\n",
    "            middle_tip = hand_landmarks.landmark[mp_hands.HandLandmark.MIDDLE_FINGER_TIP]\n",
    "\n",
    "            wrist_x, wrist_y = int(wrist.x * w), int(wrist.y * h)\n",
    "            middle_x, middle_y = int(middle_tip.x * w), int(middle_tip.y * h)\n",
    "\n",
    "            angle_rad = math.atan2(middle_y - wrist_y, middle_x - wrist_x)\n",
    "            angle_deg = math.degrees(angle_rad) + 90\n",
    "            \n",
    "            if initial_angle is None:\n",
    "                initial_angle = angle_deg\n",
    "\n",
    "            rotation_angle = angle_deg - initial_angle\n",
    "            \n",
    "            if rotation_angle > 180:\n",
    "                rotation_angle -= 360\n",
    "            elif rotation_angle < -180:\n",
    "                rotation_angle += 360\n",
    "\n",
    "    # === Rendering OpenGL ===\n",
    "    glClear(GL_COLOR_BUFFER_BIT | GL_DEPTH_BUFFER_BIT)\n",
    "    \n",
    "    glLoadIdentity()\n",
    "    \n",
    "    # Terapkan transformasi (rotasi dan skala/zoom)\n",
    "    glRotatef(rotation_angle, 0, 0, 1)\n",
    "    glScalef(zoom_level, zoom_level, zoom_level)\n",
    "    \n",
    "    # Gambar objek 3D\n",
    "    draw_obj()\n",
    "\n",
    "    glfw.swap_buffers(window)\n",
    "    glfw.poll_events()\n",
    "\n",
    "# Hancurkan window dan akhiri\n",
    "cap.release()\n",
    "glfw.terminate()"
   ]
  },
  {
   "cell_type": "markdown",
   "id": "71e46b54-1df0-4233-b064-8ea3ec792c7f",
   "metadata": {},
   "source": [
    "Logika"
   ]
  }
 ],
 "metadata": {
  "kernelspec": {
   "display_name": "Python (venv_312)",
   "language": "python",
   "name": "venv_312"
  },
  "language_info": {
   "codemirror_mode": {
    "name": "ipython",
    "version": 3
   },
   "file_extension": ".py",
   "mimetype": "text/x-python",
   "name": "python",
   "nbconvert_exporter": "python",
   "pygments_lexer": "ipython3",
   "version": "3.12.0"
  }
 },
 "nbformat": 4,
 "nbformat_minor": 5
}
